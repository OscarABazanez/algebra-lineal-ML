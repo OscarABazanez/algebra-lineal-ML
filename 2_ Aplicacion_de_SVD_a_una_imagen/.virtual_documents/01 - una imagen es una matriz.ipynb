get_ipython().run_line_magic("matplotlib", " inline")

import numpy as np
import matplotlib.pyplot as plt
from PIL import Image # Ayuda a leer las imagenes


plt.style.use('classic')

imagen = Image.open("./imagenes/imagen_ejemplo_frida_bredesen.jpg")

plt.imshow(imagen)


imagen_gr = imagen.convert('LA')
print(imagen_gr)


imagen_matriz = np.array(list(imagen_gr.getdata(band=0)), float)
imagen_matriz


imagen_matriz.shape = (imagen_gr.size[1], imagen_gr.size[0])
imagen_matriz


imagen_matriz.shape


plt.imshow(imagen_matriz, cmap='gray')


imagen_matriz_2 = imagen_matriz/255
imagen_matriz_2


plt.imshow(imagen_matriz_2, cmap='gray')


print(f'Maximo matriz 1: {np.max(imagen_matriz_2)}')
print(f'Maximo matriz 2: {np.max(imagen_matriz)}')


print(f'Maximo matriz 1: {np.min(imagen_matriz_2)}')
print(f'Maximo matriz 2: {np.min(imagen_matriz)}')
