{
 "cells": [
  {
   "cell_type": "markdown",
   "id": "3d78ce7c-9124-4f7a-b1d1-0311c92b2b9a",
   "metadata": {},
   "source": [
    "# ¿Qué es una pseudo inversa de Moore Penrose y cómo calcularla?\n",
    "\n",
    "- La pseudo inversa de Moore Penrose es utilizada cuando en un sistema de ecuaciones lineales representado por Ax = B, x no tiene inversa.\n",
    "- La pseudo inversa de MP es única y existe si se verifican 4 condiciones.\n",
    "- Para calcularla se siguen los siguientes pasos:\n",
    "- Calcular las matrices U, D, y V (matrices SVD) de A.\n",
    "    1. Construir D_pse: una matriz de ceros que tiene igual dimension de A, y que luego se transpone.\n",
    "    2. Reemplazar la submatriz D_pse[: D.shape[0], : D.shape[0]] por np.linalg.inv(np.diag(D))\n",
    "    3. Reconstruir pseudoinversa: A_pse = V.T.dot(D_pse).dot(U.T)\n",
    "**Notas**\n",
    "- Caclular con numpy ``np.linalg.pinv(A)``. Numpy usa SVD es mas certera, y computacionalmente más efectiva.\n",
    "- Lo que obtenemos con A_pse es una matriz muy cercana a la inversa. Cercano en el sentido de que minimiza - la norma dos de estas distancias. O sea, de estos errores que estamos cometiendo.\n",
    "- A_pse no es conmutativa, es decir, A_pse·A ≠ A·A_pse"
   ]
  },
  {
   "cell_type": "code",
   "execution_count": 1,
   "id": "b8038917-fbe5-4ae4-8136-1171c64d161e",
   "metadata": {},
   "outputs": [
    {
     "name": "stdout",
     "output_type": "stream",
     "text": [
      "[[ 2  3]\n",
      " [ 5  7]\n",
      " [11 13]]\n"
     ]
    }
   ],
   "source": [
    "import numpy as np\n",
    "# No mostrar los numeros que son muy cercanos a cero\n",
    "np.set_printoptions(suppress=True)\n",
    "\n",
    "A = np.array([[2, 3], [5, 7], [11, 13]])\n",
    "print(A)"
   ]
  },
  {
   "cell_type": "code",
   "execution_count": 2,
   "id": "c49a171f-206e-46e8-82c1-3a6a721c069b",
   "metadata": {},
   "outputs": [
    {
     "name": "stdout",
     "output_type": "stream",
     "text": [
      "U: [[-0.18499741 -0.47276624 -0.86154979]\n",
      " [-0.44249308 -0.74271297  0.50257071]\n",
      " [-0.87748267  0.4742041  -0.07179582]]\n",
      "\n",
      "D: [19.40321383  0.71783924]\n",
      "\n",
      "V: [[-0.63055377 -0.77614557]\n",
      " [ 0.77614557 -0.63055377]]\n",
      "\n"
     ]
    }
   ],
   "source": [
    "U, D, V = np.linalg.svd(A)\n",
    "print(f\"U: {U}\\n\")\n",
    "print(f\"D: {D}\\n\")\n",
    "print(f\"V: {V}\\n\")\n",
    "\n"
   ]
  },
  {
   "cell_type": "markdown",
   "id": "f19ff6ac-41b1-4c08-955c-9bec5599e350",
   "metadata": {},
   "source": [
    "Generando una matriz llena de 0"
   ]
  },
  {
   "cell_type": "code",
   "execution_count": 3,
   "id": "abfe5558-6729-4d3d-9710-bceaf73f0d1b",
   "metadata": {},
   "outputs": [
    {
     "data": {
      "text/plain": [
       "array([[0., 0., 0.],\n",
       "       [0., 0., 0.]])"
      ]
     },
     "execution_count": 3,
     "metadata": {},
     "output_type": "execute_result"
    }
   ],
   "source": [
    "D_pse = np.zeros((A.shape[0], A.shape[1])).T\n",
    "D_pse"
   ]
  },
  {
   "cell_type": "code",
   "execution_count": 4,
   "id": "d32776d8-a8a5-4e94-a9dc-f3ea59a09d39",
   "metadata": {},
   "outputs": [
    {
     "name": "stdout",
     "output_type": "stream",
     "text": [
      "Valores a reemplazar en D_pse\n",
      "[[0. 0.]\n",
      " [0. 0.]]\n"
     ]
    }
   ],
   "source": [
    "print(\"Valores a reemplazar en D_pse\")\n",
    "print(D_pse[:D.shape[0], :D.shape[0]])"
   ]
  },
  {
   "cell_type": "code",
   "execution_count": 5,
   "id": "341f26db-46f2-4648-b323-1761b62275d4",
   "metadata": {},
   "outputs": [
    {
     "name": "stdout",
     "output_type": "stream",
     "text": [
      "Valores que pondremos en D_pse\n",
      "[[0.05153785 0.        ]\n",
      " [0.         1.39306957]]\n"
     ]
    }
   ],
   "source": [
    "print(\"Valores que pondremos en D_pse\")\n",
    "print(np.linalg.inv(np.diag(D)))"
   ]
  },
  {
   "cell_type": "code",
   "execution_count": 6,
   "id": "e216cd25-3519-474b-957f-c8267b8cddd1",
   "metadata": {},
   "outputs": [
    {
     "name": "stdout",
     "output_type": "stream",
     "text": [
      "D_pse\n",
      "[[0.05153785 0.         0.        ]\n",
      " [0.         1.39306957 0.        ]]\n"
     ]
    }
   ],
   "source": [
    "print(\"D_pse\")\n",
    "D_pse[:D.shape[0], :D.shape[0]] = np.linalg.inv(np.diag(D))\n",
    "print(D_pse)"
   ]
  },
  {
   "cell_type": "markdown",
   "id": "8ebe3b3b-c85e-45c8-9186-fc2be9f34210",
   "metadata": {},
   "source": [
    "## Metodo 1 Calculando la pseudo inversa de A"
   ]
  },
  {
   "cell_type": "code",
   "execution_count": 7,
   "id": "b0b7a173-352c-4488-9377-62faf5cdbaa9",
   "metadata": {},
   "outputs": [
    {
     "name": "stdout",
     "output_type": "stream",
     "text": [
      "[[-0.50515464 -0.78865979  0.54123711]\n",
      " [ 0.42268041  0.67010309 -0.3814433 ]]\n"
     ]
    }
   ],
   "source": [
    "A_pse = V.T.dot(D_pse).dot(U.T)\n",
    "print(A_pse)"
   ]
  },
  {
   "cell_type": "markdown",
   "id": "f9a98b4b-3b56-4cc8-bad9-04a4ce360e2a",
   "metadata": {},
   "source": [
    "## Metodo 2 Calculando la pseudo inversa de A con Numpy"
   ]
  },
  {
   "cell_type": "code",
   "execution_count": 8,
   "id": "f29f0091-76c3-418c-b80d-a7f6f8c75504",
   "metadata": {},
   "outputs": [
    {
     "name": "stdout",
     "output_type": "stream",
     "text": [
      "[[-0.50515464 -0.78865979  0.54123711]\n",
      " [ 0.42268041  0.67010309 -0.3814433 ]]\n"
     ]
    }
   ],
   "source": [
    "A_pse_calc = np.linalg.pinv(A)\n",
    "print(A_pse_calc)"
   ]
  },
  {
   "cell_type": "markdown",
   "id": "b0af3886-f152-4274-9486-451addb95db0",
   "metadata": {},
   "source": [
    "## Metodo 3 Calculando la pseudo inversa de A"
   ]
  },
  {
   "cell_type": "code",
   "execution_count": 9,
   "id": "c041e986-ad2b-45e8-a54c-fdc6e838a458",
   "metadata": {},
   "outputs": [
    {
     "name": "stdout",
     "output_type": "stream",
     "text": [
      "[[-0.50515464 -0.78865979  0.54123711]\n",
      " [ 0.42268041  0.67010309 -0.3814433 ]]\n"
     ]
    }
   ],
   "source": [
    "A_pse_2 = np.linalg.inv(A.T.dot(A)).dot(A.T)\n",
    "print(A_pse_2)"
   ]
  },
  {
   "cell_type": "markdown",
   "id": "77907fec-d9f5-4069-9ed0-f4b3c0241748",
   "metadata": {},
   "source": [
    "Comprobando la pseudo inversa"
   ]
  },
  {
   "cell_type": "code",
   "execution_count": 10,
   "id": "5134e290-8ae0-4800-a077-562ba3d7ddab",
   "metadata": {},
   "outputs": [
    {
     "name": "stdout",
     "output_type": "stream",
     "text": [
      "[[-0.50515464 -0.78865979  0.54123711]\n",
      " [ 0.42268041  0.67010309 -0.3814433 ]]\n"
     ]
    }
   ],
   "source": [
    "print(A_pse)"
   ]
  }
 ],
 "metadata": {
  "kernelspec": {
   "display_name": "Python 3",
   "language": "python",
   "name": "python3"
  },
  "language_info": {
   "codemirror_mode": {
    "name": "ipython",
    "version": 3
   },
   "file_extension": ".py",
   "mimetype": "text/x-python",
   "name": "python",
   "nbconvert_exporter": "python",
   "pygments_lexer": "ipython3",
   "version": "3.8.8"
  }
 },
 "nbformat": 4,
 "nbformat_minor": 5
}
