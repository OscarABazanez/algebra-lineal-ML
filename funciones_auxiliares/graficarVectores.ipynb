{
 "cells": [
  {
   "cell_type": "code",
   "execution_count": 2,
   "id": "93478ba1-d873-4ea1-9fc1-4591f565572b",
   "metadata": {},
   "outputs": [],
   "source": [
    "def graficarVectores(vecs, cols, alpha = 1):\n",
    "    # Agregamos el eje vertical. Este se cruzará en x = 0, el color será gris y el orden de z será 0 \n",
    "    plt.axvline(x = 0, color = \"grey\", zorder = 0)\n",
    "    # Agregamos el eje horizontal. Este se cruzará en y = 0, el color será gris y el orden de z será 0 \n",
    "    plt.axhline(y = 0, color = \"grey\", zorder = 0)\n",
    "    \n",
    "    for i in range(len(vecs)):\n",
    "        x = np.concatenate([[0,0], vecs[i]])\n",
    "        plt.quiver(\n",
    "            [x[0]],\n",
    "            [x[1]],\n",
    "            [x[2]],\n",
    "            [x[3]],\n",
    "            angles = 'xy', scale_units = 'xy',\n",
    "            scale = 1,\n",
    "            color = cols[i],\n",
    "            alpha = alpha\n",
    "        )"
   ]
  }
 ],
 "metadata": {
  "kernelspec": {
   "display_name": "Python 3",
   "language": "python",
   "name": "python3"
  },
  "language_info": {
   "codemirror_mode": {
    "name": "ipython",
    "version": 3
   },
   "file_extension": ".py",
   "mimetype": "text/x-python",
   "name": "python",
   "nbconvert_exporter": "python",
   "pygments_lexer": "ipython3",
   "version": "3.8.8"
  }
 },
 "nbformat": 4,
 "nbformat_minor": 5
}
