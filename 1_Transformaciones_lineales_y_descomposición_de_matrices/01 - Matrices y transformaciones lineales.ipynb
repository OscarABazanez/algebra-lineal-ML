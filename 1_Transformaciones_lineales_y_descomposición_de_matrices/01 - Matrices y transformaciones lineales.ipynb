{
 "cells": [
  {
   "cell_type": "markdown",
   "id": "8a2b6ccb-1415-44bf-a516-6b49d32dccd3",
   "metadata": {},
   "source": [
    "# Matrices como transformaciones lineales"
   ]
  },
  {
   "cell_type": "code",
   "execution_count": 1,
   "id": "e2b086e2-e254-4ea2-84eb-649cf1fa5c76",
   "metadata": {},
   "outputs": [],
   "source": [
    "%matplotlib inline\n",
    "import numpy as np\n",
    "import matplotlib.pyplot as plt"
   ]
  },
  {
   "cell_type": "markdown",
   "id": "b238b1a3-09e1-4275-ac9d-e3a7957bdb31",
   "metadata": {},
   "source": [
    "## Matiz y Vector"
   ]
  },
  {
   "cell_type": "code",
   "execution_count": 2,
   "id": "b3374866-8ea7-4bb2-aff5-08fa54e9d230",
   "metadata": {},
   "outputs": [
    {
     "data": {
      "text/plain": [
       "array([[-1,  3],\n",
       "       [ 2, -2]])"
      ]
     },
     "execution_count": 2,
     "metadata": {},
     "output_type": "execute_result"
    }
   ],
   "source": [
    "matriz = np.array([[-1,3], [2,-2]])\n",
    "matriz"
   ]
  },
  {
   "cell_type": "code",
   "execution_count": 3,
   "id": "78a0cbba-2f71-453d-bc7f-108ba999d360",
   "metadata": {},
   "outputs": [
    {
     "data": {
      "text/plain": [
       "array([[2],\n",
       "       [1]])"
      ]
     },
     "execution_count": 3,
     "metadata": {},
     "output_type": "execute_result"
    }
   ],
   "source": [
    "vector = np.array([[2], [1]])\n",
    "vector"
   ]
  },
  {
   "cell_type": "markdown",
   "id": "a5655c83-3d19-4705-8815-8032b8ff63f4",
   "metadata": {},
   "source": [
    "Importando funcion"
   ]
  },
  {
   "cell_type": "code",
   "execution_count": 8,
   "id": "f5b67c84-bdd8-436a-b417-2b5a3a90e647",
   "metadata": {},
   "outputs": [],
   "source": [
    "%run \"..//funciones_auxiliares/graficarVectores.ipynb\""
   ]
  },
  {
   "cell_type": "markdown",
   "id": "109bb92c-e53a-49ce-b015-cbf4c6a9bf42",
   "metadata": {},
   "source": [
    "### Flatten\n",
    "Devuelve una tira nuestro vector que estaba definido por columnas"
   ]
  },
  {
   "cell_type": "code",
   "execution_count": 9,
   "id": "b93773a9-14bd-466a-ba3a-5f6f71cf9a5a",
   "metadata": {},
   "outputs": [
    {
     "name": "stdout",
     "output_type": "stream",
     "text": [
      "[[2]\n",
      " [1]]\n",
      "----------------------\n",
      "[2 1]\n"
     ]
    }
   ],
   "source": [
    "print(vector)\n",
    "print(22*\"-\")\n",
    "print(vector.flatten())"
   ]
  },
  {
   "cell_type": "markdown",
   "id": "8bd0b438-67fa-43de-9754-209fe0292909",
   "metadata": {},
   "source": [
    "Cuando aplicamos **Flatten** en una matriz es para los algorimos de deep learing y machine learning que necesitan la necesitan en un **vector alargado**."
   ]
  },
  {
   "cell_type": "code",
   "execution_count": 10,
   "id": "deeb72f5-da2d-46a8-a096-742377838d47",
   "metadata": {},
   "outputs": [
    {
     "name": "stdout",
     "output_type": "stream",
     "text": [
      "[[-1  3]\n",
      " [ 2 -2]]\n",
      "----------------------\n",
      "[-1  3  2 -2]\n"
     ]
    }
   ],
   "source": [
    "print(matriz)\n",
    "print(22*\"-\")\n",
    "print(matriz.flatten())"
   ]
  },
  {
   "cell_type": "markdown",
   "id": "94c5d86c-c51a-4547-95b6-4bed68f87308",
   "metadata": {},
   "source": [
    "## Grafico del Vector"
   ]
  },
  {
   "cell_type": "code",
   "execution_count": 12,
   "id": "675390f8-f294-4917-b1aa-f74aab7d685c",
   "metadata": {},
   "outputs": [
    {
     "data": {
      "text/plain": [
       "(-0.5, 2.0)"
      ]
     },
     "execution_count": 12,
     "metadata": {},
     "output_type": "execute_result"
    },
    {
     "data": {
      "image/png": "[encoded data removed]",
      "text/plain": [
       "<Figure size 432x288 with 1 Axes>"
      ]
     },
     "metadata": {
      "needs_background": "light"
     },
     "output_type": "display_data"
    }
   ],
   "source": [
    "graficarVectores([vector.flatten()], cols = 'blue')\n",
    "\n",
    "plt.xlim(-0.5, 3)\n",
    "plt.ylim(-0.5, 2)"
   ]
  },
  {
   "cell_type": "markdown",
   "id": "c21bfc28-2126-41c9-bc78-fa8daa1faef2",
   "metadata": {},
   "source": [
    "## Grafico del Vector Transformado"
   ]
  },
  {
   "cell_type": "code",
   "execution_count": 14,
   "id": "c010c836-873a-41f4-89dd-cbf3db8c6532",
   "metadata": {},
   "outputs": [
    {
     "data": {
      "text/plain": [
       "array([[1],\n",
       "       [2]])"
      ]
     },
     "execution_count": 14,
     "metadata": {},
     "output_type": "execute_result"
    }
   ],
   "source": [
    "vector_transformado = matriz.dot(vector)\n",
    "vector_transformado"
   ]
  },
  {
   "cell_type": "markdown",
   "id": "ae06d5d0-fb32-41f4-8c58-0ea5d2cbde91",
   "metadata": {},
   "source": [
    "Al graficar nuestro vector transformado podemos observar que nuestro vector tuvo una rotacion del espacio.\n",
    "Vector [2,1] al Vector transdormado [1,2]"
   ]
  },
  {
   "cell_type": "code",
   "execution_count": 18,
   "id": "cf932424-1b2d-477b-bc97-ecf1a4c9e4ce",
   "metadata": {},
   "outputs": [
    {
     "data": {
      "text/plain": [
       "(-0.5, 2.5)"
      ]
     },
     "execution_count": 18,
     "metadata": {},
     "output_type": "execute_result"
    },
    {
     "data": {
      "image/png": "[encoded data removed]",
      "text/plain": [
       "<Figure size 432x288 with 1 Axes>"
      ]
     },
     "metadata": {
      "needs_background": "light"
     },
     "output_type": "display_data"
    }
   ],
   "source": [
    "graficarVectores(\n",
    "    [vector.flatten(), vector_transformado.flatten()],\n",
    "    cols = ['blue', 'orange']\n",
    ")\n",
    "\n",
    "plt.xlim(-0.5, 2.5)\n",
    "plt.ylim(-0.5, 2.5)"
   ]
  },
  {
   "cell_type": "markdown",
   "id": "f1cd0a9e-5e4f-44c0-9c1e-cdcd6b97e5a8",
   "metadata": {},
   "source": [
    "Existen vectores cuando se les aplica algunas transformaciones no se modifican."
   ]
  },
  {
   "cell_type": "code",
   "execution_count": 19,
   "id": "7164f08b-d330-42c2-94fc-53f87a5078c5",
   "metadata": {},
   "outputs": [
    {
     "name": "stdout",
     "output_type": "stream",
     "text": [
      "-4.0\n"
     ]
    }
   ],
   "source": [
    "print(np.linalg.det(matriz))"
   ]
  },
  {
   "cell_type": "code",
   "execution_count": 20,
   "id": "2319c226-7cad-4313-9290-ed0c1d317fcc",
   "metadata": {},
   "outputs": [
    {
     "name": "stdout",
     "output_type": "stream",
     "text": [
      "2.23606797749979\n",
      "2.23606797749979\n"
     ]
    }
   ],
   "source": [
    "print(np.linalg.norm(vector))\n",
    "print(np.linalg.norm(vector_transformado))"
   ]
  }
 ],
 "metadata": {
  "kernelspec": {
   "display_name": "Python 3",
   "language": "python",
   "name": "python3"
  },
  "language_info": {
   "codemirror_mode": {
    "name": "ipython",
    "version": 3
   },
   "file_extension": ".py",
   "mimetype": "text/x-python",
   "name": "python",
   "nbconvert_exporter": "python",
   "pygments_lexer": "ipython3",
   "version": "3.8.8"
  }
 },
 "nbformat": 4,
 "nbformat_minor": 5
}
