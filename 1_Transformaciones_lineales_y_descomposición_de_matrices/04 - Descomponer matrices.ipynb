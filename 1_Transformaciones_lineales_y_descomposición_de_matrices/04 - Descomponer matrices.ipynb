{
 "cells": [
  {
   "cell_type": "markdown",
   "id": "769863c1-2bf1-47c7-ae09-533ba8c490c4",
   "metadata": {},
   "source": [
    "# Descomposición de matrices\n",
    "Consiste en reescribir una matriz cuadrada X como un producto de A x B x C, es decir X = AxBxC, donde:\n",
    "- A: es la matriz formada por los autovectores\n",
    "- B: matriz diagonal formada por los autovalores\n",
    "- C: matriz inversa de A.\n",
    "\n",
    "Por ejemplo: Cuando tenemos el 6, se puede escribir 3*2=6 y el 3 y 2 tienen la propiedad de ser numeros primos."
   ]
  },
  {
   "cell_type": "markdown",
   "id": "6c24b70a-9d49-4d8e-b03d-da590fedf89c",
   "metadata": {},
   "source": [
    "## Metodo 1 escribir matriz\n",
    "### Escribir matriz a la inversa\n",
    "Usar este metodo puede ser computacionalmente dificil cuando"
   ]
  },
  {
   "cell_type": "code",
   "execution_count": 7,
   "id": "a3f44206-35e2-428f-bce9-e68e2da0d747",
   "metadata": {},
   "outputs": [
    {
     "name": "stdout",
     "output_type": "stream",
     "text": [
      "[[3 2]\n",
      " [4 1]]\n"
     ]
    }
   ],
   "source": [
    "import numpy as np\n",
    "\n",
    "A = np.array([[3,2], [4,1]])\n",
    "print(A)"
   ]
  },
  {
   "cell_type": "code",
   "execution_count": 8,
   "id": "7ef600a1-1363-4787-9296-9d01d77aa4d5",
   "metadata": {},
   "outputs": [
    {
     "name": "stdout",
     "output_type": "stream",
     "text": [
      "[ 5. -1.]\n",
      "----------------------\n",
      "[[ 0.70710678 -0.4472136 ]\n",
      " [ 0.70710678  0.89442719]]\n"
     ]
    }
   ],
   "source": [
    "autovalores, autovectores = np.linalg.eig(A)\n",
    "print(autovalores)\n",
    "print(22*'-')\n",
    "print(autovectores)"
   ]
  },
  {
   "cell_type": "code",
   "execution_count": 12,
   "id": "98e601fa-693e-4514-be69-3e7c5e5aaace",
   "metadata": {},
   "outputs": [
    {
     "data": {
      "text/plain": [
       "array([[3., 2.],\n",
       "       [4., 1.]])"
      ]
     },
     "execution_count": 12,
     "metadata": {},
     "output_type": "execute_result"
    }
   ],
   "source": [
    "A_calculada = autovectores.dot(np.diag(autovalores)).dot(np.linalg.inv(autovectores))\n",
    "A_calculada"
   ]
  },
  {
   "cell_type": "markdown",
   "id": "4a90617f-cbe0-40ad-8a78-ad6d30ffa6e0",
   "metadata": {},
   "source": [
    "## Metodo 2 escribir matriz\n",
    "### Si es una matriz real y simetrica se utilizara la traspuesta\n",
    "Usar este metodo trae muchos beneficios cuando en las matrices reales y simétricas, C = A.T (matriz traspuesta de los autovectores). Esta propiedad tiene menor costo computacional."
   ]
  },
  {
   "cell_type": "code",
   "execution_count": 17,
   "id": "eacb2407-8e6f-4605-8d12-c47287965ebc",
   "metadata": {},
   "outputs": [
    {
     "name": "stdout",
     "output_type": "stream",
     "text": [
      "[[3 2]\n",
      " [2 3]]\n"
     ]
    }
   ],
   "source": [
    "A = np.array([[3,2], [2,3]])\n",
    "print(A)"
   ]
  },
  {
   "cell_type": "markdown",
   "id": "d41472ff-8814-4701-9597-121d1672e489",
   "metadata": {},
   "source": [
    "Demostramos que esta matriz es simétrica, ya que coincide con su traspuesta"
   ]
  },
  {
   "cell_type": "code",
   "execution_count": 19,
   "id": "3ace0c00-1c22-4eed-9167-777869eeb205",
   "metadata": {},
   "outputs": [
    {
     "name": "stdout",
     "output_type": "stream",
     "text": [
      "[[ True  True]\n",
      " [ True  True]]\n"
     ]
    }
   ],
   "source": [
    "print(A == A.T)"
   ]
  },
  {
   "cell_type": "code",
   "execution_count": 24,
   "id": "cc321d69-492d-421b-be02-2dce85947f17",
   "metadata": {},
   "outputs": [
    {
     "name": "stdout",
     "output_type": "stream",
     "text": [
      "[5. 1.]\n",
      "[[ 0.70710678 -0.70710678]\n",
      " [ 0.70710678  0.70710678]]\n"
     ]
    }
   ],
   "source": [
    "# Calculamos de nuevo los autovalores y los autovectores\n",
    "autovalores, autovectores = np.linalg.eig(A)\n",
    "print(autovalores)\n",
    "print(autovectores)"
   ]
  },
  {
   "cell_type": "markdown",
   "id": "3a58f409-fde1-472d-9712-c37eb7857f24",
   "metadata": {},
   "source": [
    "Resultado"
   ]
  },
  {
   "cell_type": "code",
   "execution_count": 22,
   "id": "2696d968-de7f-4acf-a243-63f6421aafe4",
   "metadata": {},
   "outputs": [
    {
     "data": {
      "text/plain": [
       "array([[3., 2.],\n",
       "       [2., 3.]])"
      ]
     },
     "execution_count": 22,
     "metadata": {},
     "output_type": "execute_result"
    }
   ],
   "source": [
    "A_calculada = autovectores.dot(np.diag(autovalores)).dot(autovectores.T)\n",
    "A_calculada"
   ]
  },
  {
   "cell_type": "markdown",
   "id": "500bbab9-51f0-446f-b27d-8b1f5303a4bb",
   "metadata": {
    "tags": []
   },
   "source": [
    "## Convulsión: \n",
    "Podemos escribir a nuestra matriz cuando es cuadrada en función de los autovalores y autovectores, y en el caso de que sea simétrica podemos usar la traspuesta en lugar de la inversa."
   ]
  }
 ],
 "metadata": {
  "kernelspec": {
   "display_name": "Python 3",
   "language": "python",
   "name": "python3"
  },
  "language_info": {
   "codemirror_mode": {
    "name": "ipython",
    "version": 3
   },
   "file_extension": ".py",
   "mimetype": "text/x-python",
   "name": "python",
   "nbconvert_exporter": "python",
   "pygments_lexer": "ipython3",
   "version": "3.8.8"
  }
 },
 "nbformat": 4,
 "nbformat_minor": 5
}
