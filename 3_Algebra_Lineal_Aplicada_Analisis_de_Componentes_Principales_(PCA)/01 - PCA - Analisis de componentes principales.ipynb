{
 "cells": [
  {
   "cell_type": "markdown",
   "id": "7c14ec3b-cff6-41b9-b7b3-4a311bab3279",
   "metadata": {},
   "source": [
    "# ¿Qué es PCA?"
   ]
  },
  {
   "cell_type": "code",
   "execution_count": 1,
   "id": "252264f3-e086-4578-8c4c-7062f293ac37",
   "metadata": {},
   "outputs": [],
   "source": [
    "%matplotlib inline\n",
    "\n",
    "import numpy as np\n",
    "import matplotlib.pyplot as plt"
   ]
  },
  {
   "cell_type": "code",
   "execution_count": 4,
   "id": "dc7877cc-6e9f-4a47-acd1-bbcbb32e7c27",
   "metadata": {
    "scrolled": true,
    "tags": []
   },
   "outputs": [
    {
     "name": "stdout",
     "output_type": "stream",
     "text": [
      "[[1.12362036]\n",
      " [2.85214292]\n",
      " [2.19598183]\n",
      " [1.79597545]\n",
      " [0.46805592]\n",
      " [0.46798356]\n",
      " [0.17425084]\n",
      " [2.59852844]\n",
      " [1.80334504]\n",
      " [2.12421773]\n",
      " [0.06175348]\n",
      " [2.90972956]\n",
      " [2.49732792]\n",
      " [0.63701733]\n",
      " [0.5454749 ]\n",
      " [0.55021353]\n",
      " [0.91272673]\n",
      " [1.57426929]\n",
      " [1.29583506]\n",
      " [0.87368742]\n",
      " [1.83555868]\n",
      " [0.41848158]\n",
      " [0.87643395]\n",
      " [1.09908553]\n",
      " [1.36820995]\n",
      " [2.35552788]\n",
      " [0.59902135]\n",
      " [1.54270332]\n",
      " [1.77724371]\n",
      " [0.13935124]\n",
      " [1.82263456]\n",
      " [0.51157237]\n",
      " [0.19515478]\n",
      " [2.84665661]\n",
      " [2.8968961 ]\n",
      " [2.42519204]\n",
      " [0.91384131]\n",
      " [0.29301634]\n",
      " [2.05269908]\n",
      " [1.32045748]\n",
      " [0.3661147 ]\n",
      " [1.48553073]\n",
      " [0.10316556]\n",
      " [2.72796121]\n",
      " [0.77633994]\n",
      " [1.98756685]\n",
      " [0.93513323]\n",
      " [1.56020406]\n",
      " [1.64013084]\n",
      " [0.55456337]\n",
      " [2.90875388]\n",
      " [2.32539847]\n",
      " [2.81849682]\n",
      " [2.68448205]\n",
      " [1.79369994]\n",
      " [2.76562271]\n",
      " [0.26547751]\n",
      " [0.58794859]\n",
      " [0.13568187]\n",
      " [0.97599099]\n",
      " [1.16603187]\n",
      " [0.8140471 ]\n",
      " [2.48621253]\n",
      " [1.07025998]\n",
      " [0.84280353]\n",
      " [1.62808825]\n",
      " [0.42277267]\n",
      " [2.40659094]\n",
      " [0.22365193]\n",
      " [2.96066081]\n",
      " [2.31673431]\n",
      " [0.59614704]\n",
      " [0.01656635]\n",
      " [2.44638429]\n",
      " [2.12057203]\n",
      " [2.1870215 ]\n",
      " [2.31381104]\n",
      " [0.22213396]\n",
      " [1.07539719]\n",
      " [0.34760718]\n",
      " [2.58931028]\n",
      " [1.86989438]\n",
      " [0.99269407]\n",
      " [0.19067505]\n",
      " [0.93294697]\n",
      " [0.97554997]\n",
      " [2.18881854]\n",
      " [1.91267241]\n",
      " [2.66163823]\n",
      " [1.41664478]\n",
      " [0.35878274]\n",
      " [2.13973436]\n",
      " [2.28235515]\n",
      " [1.68383159]\n",
      " [2.31290154]\n",
      " [1.48138679]\n",
      " [1.56819849]\n",
      " [1.28262306]\n",
      " [0.07625738]\n",
      " [0.32367428]\n",
      " [0.09428756]\n",
      " [1.90923123]\n",
      " [0.94306794]\n",
      " [1.52571207]\n",
      " [2.72269942]\n",
      " [0.74787669]\n",
      " [1.23114877]\n",
      " [2.26665342]\n",
      " [0.6863945 ]\n",
      " [0.23093973]\n",
      " [0.86925436]\n",
      " [0.48366386]\n",
      " [2.78909296]\n",
      " [2.42436114]\n",
      " [1.90021127]\n",
      " [2.61438177]\n",
      " [2.41101623]\n",
      " [0.55971018]\n",
      " [2.677677  ]\n",
      " [1.61802673]\n",
      " [2.42232047]\n",
      " [2.6882739 ]\n",
      " [0.95401042]\n",
      " [0.33015577]\n",
      " [0.68380549]\n",
      " [1.28132337]\n",
      " [2.4540443 ]\n",
      " [2.58219175]\n",
      " [0.02085639]\n",
      " [1.53224191]\n",
      " [1.25223301]\n",
      " [0.66632343]\n",
      " [0.3595961 ]\n",
      " [1.01284551]\n",
      " [2.82872911]\n",
      " [0.9696088 ]\n",
      " [1.55637187]\n",
      " [2.10905688]\n",
      " [1.09088881]\n",
      " [2.91534625]\n",
      " [2.88734188]\n",
      " [0.75534689]\n",
      " [1.49174552]\n",
      " [0.90263493]\n",
      " [0.85452148]\n",
      " [0.11066084]\n",
      " [1.828693  ]\n",
      " [1.50803707]\n",
      " [0.15443625]\n",
      " [0.83593939]\n",
      " [2.72479766]\n",
      " [0.71868567]\n",
      " [0.43468462]\n",
      " [1.46835828]\n",
      " [2.95695136]\n",
      " [0.72616581]\n",
      " [2.01640664]\n",
      " [2.28485885]\n",
      " [0.71291263]\n",
      " [2.18464905]\n",
      " [1.1033494 ]\n",
      " [1.89691749]\n",
      " [1.90058913]\n",
      " [1.60732405]\n",
      " [0.27086931]\n",
      " [2.50590749]\n",
      " [0.96234019]\n",
      " [0.55955553]\n",
      " [0.12232542]\n",
      " [1.77267883]\n",
      " [2.03269309]\n",
      " [0.04976349]\n",
      " [1.53627917]\n",
      " [0.67948733]\n",
      " [1.93551837]\n",
      " [0.52309929]\n",
      " [2.07281321]\n",
      " [1.16020604]\n",
      " [2.81018997]\n",
      " [0.41256283]\n",
      " [1.02319905]\n",
      " [0.34042056]\n",
      " [2.77408085]\n",
      " [2.63201806]\n",
      " [0.77382488]\n",
      " [1.97995214]\n",
      " [2.4516666 ]\n",
      " [1.66560243]\n",
      " [1.58895174]\n",
      " [0.72555687]\n",
      " [0.2793083 ]\n",
      " [2.69164727]\n",
      " [2.70125417]\n",
      " [1.89930437]\n",
      " [1.01708937]\n",
      " [1.04762872]\n",
      " [2.17786704]\n",
      " [2.69133078]\n",
      " [2.66125927]\n",
      " [2.33962664]]\n",
      "[[21.11235769]\n",
      " [57.50736578]\n",
      " [44.50578146]\n",
      " [34.49080622]\n",
      " [13.09266745]\n",
      " [10.30733706]\n",
      " [ 1.10240974]\n",
      " [53.28367596]\n",
      " [34.11753736]\n",
      " [44.05852388]\n",
      " [ 3.55226082]\n",
      " [56.55322649]\n",
      " [51.87331071]\n",
      " [13.56590849]\n",
      " [12.55361835]\n",
      " [14.79785656]\n",
      " [17.76375835]\n",
      " [29.97791357]\n",
      " [24.13767226]\n",
      " [15.84212784]\n",
      " [36.55697026]\n",
      " [ 9.05193559]\n",
      " [18.08206051]\n",
      " [23.6360771 ]\n",
      " [27.39020284]\n",
      " [50.01762584]\n",
      " [11.45111326]\n",
      " [36.29440464]\n",
      " [36.79620883]\n",
      " [ 1.07270965]\n",
      " [34.31090612]\n",
      " [11.19639225]\n",
      " [ 3.45617001]\n",
      " [58.36113322]\n",
      " [58.88439723]\n",
      " [48.35818306]\n",
      " [16.58323871]\n",
      " [ 2.83063239]\n",
      " [40.16095169]\n",
      " [28.12194721]\n",
      " [ 7.75048158]\n",
      " [27.21913705]\n",
      " [ 2.40967312]\n",
      " [55.32985888]\n",
      " [13.75908402]\n",
      " [40.05878727]\n",
      " [18.819082  ]\n",
      " [28.91814068]\n",
      " [33.51819148]\n",
      " [12.21283638]\n",
      " [60.34118015]\n",
      " [48.61557351]\n",
      " [53.61459776]\n",
      " [51.81399095]\n",
      " [36.90406926]\n",
      " [56.340026  ]\n",
      " [ 6.3396455 ]\n",
      " [19.46443473]\n",
      " [ 3.85541836]\n",
      " [21.79095113]\n",
      " [25.22864091]\n",
      " [17.58372441]\n",
      " [49.09371206]\n",
      " [22.92313804]\n",
      " [15.31042015]\n",
      " [32.08812778]\n",
      " [ 7.4847264 ]\n",
      " [48.29556712]\n",
      " [ 9.10235575]\n",
      " [55.47868581]\n",
      " [47.70720654]\n",
      " [ 8.69750915]\n",
      " [-0.6125367 ]\n",
      " [51.1055869 ]\n",
      " [42.54000067]\n",
      " [41.58494053]\n",
      " [44.84561338]\n",
      " [ 5.8018746 ]\n",
      " [20.04721045]\n",
      " [ 7.38506075]\n",
      " [51.87734923]\n",
      " [36.09468691]\n",
      " [24.14176967]\n",
      " [ 5.08133906]\n",
      " [14.60865413]\n",
      " [19.88390795]\n",
      " [42.45279777]\n",
      " [39.95831495]\n",
      " [51.64772308]\n",
      " [28.10342263]\n",
      " [ 8.18562931]\n",
      " [44.52619762]\n",
      " [43.2465101 ]\n",
      " [33.00762938]\n",
      " [45.30814017]\n",
      " [28.32107732]\n",
      " [34.89487824]\n",
      " [26.46242452]\n",
      " [-0.9966203 ]\n",
      " [ 8.30920951]\n",
      " [ 6.13006354]\n",
      " [40.2495552 ]\n",
      " [15.82261893]\n",
      " [29.54577332]\n",
      " [56.98781073]\n",
      " [13.54219482]\n",
      " [25.51061424]\n",
      " [46.88233642]\n",
      " [11.87402899]\n",
      " [ 4.49974388]\n",
      " [10.90255249]\n",
      " [ 7.62450195]\n",
      " [55.27672284]\n",
      " [45.99165641]\n",
      " [41.269048  ]\n",
      " [49.42735266]\n",
      " [47.34023564]\n",
      " [11.45568469]\n",
      " [56.43608649]\n",
      " [29.48881021]\n",
      " [50.77273681]\n",
      " [53.78594412]\n",
      " [17.1171912 ]\n",
      " [ 7.52732242]\n",
      " [14.07422914]\n",
      " [24.42603356]\n",
      " [49.22049013]\n",
      " [50.8732078 ]\n",
      " [ 0.64416252]\n",
      " [31.9690995 ]\n",
      " [28.21669382]\n",
      " [10.85083763]\n",
      " [11.45798879]\n",
      " [16.35273469]\n",
      " [56.27101204]\n",
      " [20.56881033]\n",
      " [31.68942104]\n",
      " [40.93573849]\n",
      " [21.40153164]\n",
      " [57.32092309]\n",
      " [56.56810818]\n",
      " [16.80614194]\n",
      " [30.54894133]\n",
      " [16.6668794 ]\n",
      " [18.88962941]\n",
      " [ 2.82781588]\n",
      " [38.19958428]\n",
      " [31.41999908]\n",
      " [ 1.43073505]\n",
      " [15.59842577]\n",
      " [55.99054037]\n",
      " [15.59445397]\n",
      " [ 8.65188914]\n",
      " [29.60182038]\n",
      " [61.69435704]\n",
      " [13.34017351]\n",
      " [41.42232761]\n",
      " [45.29279161]\n",
      " [13.82289023]\n",
      " [45.89053462]\n",
      " [23.71782066]\n",
      " [39.56536911]\n",
      " [40.62274026]\n",
      " [32.18848873]\n",
      " [ 6.78129215]\n",
      " [49.49761622]\n",
      " [19.8951366 ]\n",
      " [10.93082452]\n",
      " [ 2.64050042]\n",
      " [36.64389064]\n",
      " [39.01742034]\n",
      " [ 5.18004429]\n",
      " [28.71354873]\n",
      " [11.16136929]\n",
      " [41.02658917]\n",
      " [12.04531113]\n",
      " [42.70450392]\n",
      " [24.4608118 ]\n",
      " [56.17930578]\n",
      " [ 6.45674791]\n",
      " [20.61559018]\n",
      " [ 5.45408785]\n",
      " [57.43185656]\n",
      " [52.34624644]\n",
      " [13.82550327]\n",
      " [38.95627108]\n",
      " [49.85919492]\n",
      " [32.18459959]\n",
      " [30.13459391]\n",
      " [14.99851188]\n",
      " [ 6.07609921]\n",
      " [52.81905913]\n",
      " [53.08300682]\n",
      " [38.45018731]\n",
      " [17.44561878]\n",
      " [18.13764693]\n",
      " [42.12045229]\n",
      " [53.39972129]\n",
      " [53.84700059]\n",
      " [49.74324519]]\n"
     ]
    }
   ],
   "source": [
    "np.random.seed(42)\n",
    "\n",
    "x = 3*np.random.rand(200)\n",
    "y = 20*x + 2*np.random.randn(200)\n",
    "\n",
    "x = x.reshape(200,1)\n",
    "y = y.reshape(200,1)\n",
    "\n",
    "print(x)\n",
    "print(y)"
   ]
  },
  {
   "cell_type": "markdown",
   "id": "fc607728-9131-4e5a-9818-02746395e631",
   "metadata": {},
   "source": [
    "## hstack: Nos permite pasar nuestro dos vectores y unirlos en uno solo"
   ]
  },
  {
   "cell_type": "code",
   "execution_count": 7,
   "id": "a4534a7b-80db-45e4-9efa-2593acc32b12",
   "metadata": {},
   "outputs": [
    {
     "name": "stdout",
     "output_type": "stream",
     "text": [
      "(200, 2)\n"
     ]
    }
   ],
   "source": [
    "xy = np.hstack([x, y])\n",
    "print(xy.shape)"
   ]
  },
  {
   "cell_type": "markdown",
   "id": "225d2693-eb1a-4b72-9ff2-9cb726bba1dd",
   "metadata": {},
   "source": [
    "## Grafica de dispersion\n",
    "Tenemos un conjunto de datos altamente correlacionados.\n",
    "Que implica esto sobre las dimensiones? "
   ]
  },
  {
   "cell_type": "code",
   "execution_count": 8,
   "id": "0a234d8b-f4b4-4b09-898e-b9bf71443e4f",
   "metadata": {},
   "outputs": [
    {
     "data": {
      "image/png": "[encoded data removed]",
      "text/plain": [
       "<Figure size 432x288 with 1 Axes>"
      ]
     },
     "metadata": {
      "needs_background": "light"
     },
     "output_type": "display_data"
    }
   ],
   "source": [
    "plt.plot(xy[:,0], xy[:,1], '.')\n",
    "plt.show()"
   ]
  },
  {
   "cell_type": "markdown",
   "id": "13de9d26-189b-48ce-8e48-3044c710c17e",
   "metadata": {},
   "source": [
    "### Buena practica: Centrar la informacion es una buena practica para simplificar el computo de los numeros."
   ]
  },
  {
   "cell_type": "code",
   "execution_count": 13,
   "id": "0a5527d3-c141-4bfc-afcc-e89394e922a5",
   "metadata": {},
   "outputs": [],
   "source": [
    "xy_centrado = xy - np.mean(xy, axis = 0)"
   ]
  },
  {
   "cell_type": "markdown",
   "id": "f9a35566-f5fb-4626-a737-9137e92bcb00",
   "metadata": {},
   "source": [
    "## Graficamos nuestros datos centrados en la media."
   ]
  },
  {
   "cell_type": "code",
   "execution_count": 14,
   "id": "f86438aa-a432-4693-8724-d56dc872b454",
   "metadata": {},
   "outputs": [
    {
     "data": {
      "image/png": "[encoded data removed]",
      "text/plain": [
       "<Figure size 432x288 with 1 Axes>"
      ]
     },
     "metadata": {
      "needs_background": "light"
     },
     "output_type": "display_data"
    }
   ],
   "source": [
    "plt.plot(xy_centrado[:,0], xy_centrado[:,1], '.')\n",
    "plt.show()"
   ]
  },
  {
   "cell_type": "markdown",
   "id": "c31549d8-97a2-47b1-b9e8-1d4b69045eac",
   "metadata": {},
   "source": [
    "El siguiente paso es calcular nuestra matriz de covarianza y calcular sus autovectores y autovalores. \n",
    "\n",
    "La matriz de covarianza se resuelve así xy_centrado.T.dot(xy_centrado) \n",
    "\n",
    "Falta dividirla por la cantidad de datos para obtener el promedio pero es un escalar y no nos afecta para obtener nuestros autovectores y autovalores, ya que obentemos un múltiplo del autovector, pero su dirección sigue siendo la misma."
   ]
  },
  {
   "cell_type": "code",
   "execution_count": 16,
   "id": "43e474d9-109e-4586-b4a0-aa61e132050e",
   "metadata": {},
   "outputs": [
    {
     "name": "stdout",
     "output_type": "stream",
     "text": [
      "[[-0.9987754  -0.04947417]\n",
      " [ 0.04947417 -0.9987754 ]]\n"
     ]
    }
   ],
   "source": [
    "autovalores, autovectores = np.linalg.eig(xy_centrado.T.dot(xy_centrado))\n",
    "print(autovectores)"
   ]
  },
  {
   "cell_type": "code",
   "execution_count": 18,
   "id": "9f6be7cf-feb9-4b7c-a21b-0db960caae00",
   "metadata": {},
   "outputs": [],
   "source": [
    "%run \"../funciones_auxiliares/graficarVectores.ipynb\""
   ]
  },
  {
   "cell_type": "markdown",
   "id": "81e372f1-c6e5-4451-a3b7-b857a8451208",
   "metadata": {},
   "source": [
    "## Graficamos nuestros autovectores.\n",
    "Queremos ver como estos autovectores estan relacionados con la direccion en la cual se mueve nuestra informacion."
   ]
  },
  {
   "cell_type": "code",
   "execution_count": 21,
   "id": "eca45cee-cf52-4e7e-9cce-48576dcb3283",
   "metadata": {},
   "outputs": [
    {
     "data": {
      "image/png": "[encoded data removed]",
      "text/plain": [
       "<Figure size 432x288 with 1 Axes>"
      ]
     },
     "metadata": {
      "needs_background": "light"
     },
     "output_type": "display_data"
    }
   ],
   "source": [
    "graficarVectores(autovectores.T, ['blue', 'red'])\n",
    "\n",
    "plt.plot(xy_centrado[:, 0], xy_centrado[:, 1]/20, '.')\n",
    "\n",
    "plt.show()"
   ]
  },
  {
   "cell_type": "markdown",
   "id": "76214641-17ff-4fce-b006-f3e9fb43bd96",
   "metadata": {},
   "source": [
    "Comprobaremos si el autovector que creemos que tiene la mayor cantidad de informacion es el que pensamos (color rojo)\n",
    "\n",
    "**Respuesta**: El numero mas grande 6.28759594e+04 es el que corresponde al color rojo y  es el que nos va a permitir quedarnos la mayor cantidad de informacion."
   ]
  },
  {
   "cell_type": "code",
   "execution_count": 23,
   "id": "aab370e8-a853-43ba-8cf7-c150b4796990",
   "metadata": {},
   "outputs": [
    {
     "name": "stdout",
     "output_type": "stream",
     "text": [
      "[1.85050946e+00 6.28759594e+04]\n"
     ]
    }
   ],
   "source": [
    "print(autovalores)"
   ]
  },
  {
   "cell_type": "markdown",
   "id": "4ac6ec25-2e1f-4b16-bd89-8c0d63b4d63b",
   "metadata": {},
   "source": [
    "Luego de elegir debemos proyectar los datos perpendicularmente en el autovector, para esto podemos usar el producto punto.\n",
    "\n",
    "Lo que hace el profesor acá es proyectar los datos con cada autovector."
   ]
  },
  {
   "cell_type": "code",
   "execution_count": 24,
   "id": "d3746eb8-f1a3-4149-8c41-eb188366f279",
   "metadata": {},
   "outputs": [],
   "source": [
    "xy_nuevo = autovectores.T.dot(xy_centrado.T)"
   ]
  },
  {
   "cell_type": "markdown",
   "id": "2dbf75cf-9051-49a0-ba35-2bd8691129b9",
   "metadata": {},
   "source": [
    "## Graficando nuestro autovector seleccionado\n",
    "Podemos apreciar como nuestra nube de datos cambio de algo que estaba linealmente relacionada.\n",
    "Ahora estamos en el escenario ideal donde todos nuestros puntos se mudaron a lo largo del espacio y podemos distinguir con que variable quedarnos, por ejemplo; que darnos con la variable Y"
   ]
  },
  {
   "cell_type": "code",
   "execution_count": 25,
   "id": "f982e2a4-5377-45c6-930d-e870b0e1f638",
   "metadata": {},
   "outputs": [
    {
     "data": {
      "image/png": "[encoded data removed]",
      "text/plain": [
       "<Figure size 432x288 with 1 Axes>"
      ]
     },
     "metadata": {
      "needs_background": "light"
     },
     "output_type": "display_data"
    }
   ],
   "source": [
    "plt.plot(xy_nuevo[0, :], xy_nuevo[1, :], '.')\n",
    "\n",
    "plt.show()"
   ]
  }
 ],
 "metadata": {
  "kernelspec": {
   "display_name": "Python 3",
   "language": "python",
   "name": "python3"
  },
  "language_info": {
   "codemirror_mode": {
    "name": "ipython",
    "version": 3
   },
   "file_extension": ".py",
   "mimetype": "text/x-python",
   "name": "python",
   "nbconvert_exporter": "python",
   "pygments_lexer": "ipython3",
   "version": "3.8.8"
  }
 },
 "nbformat": 4,
 "nbformat_minor": 5
}
